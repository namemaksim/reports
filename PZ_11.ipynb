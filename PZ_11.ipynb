{
  "nbformat": 4,
  "nbformat_minor": 0,
  "metadata": {
    "colab": {
      "name": "PZ_11.ipynb",
      "provenance": [],
      "authorship_tag": "ABX9TyMF7dFAKvJrM/nC9Yo399jQ",
      "include_colab_link": true
    },
    "kernelspec": {
      "name": "python3",
      "display_name": "Python 3"
    },
    "language_info": {
      "name": "python"
    }
  },
  "cells": [
    {
      "cell_type": "markdown",
      "metadata": {
        "id": "view-in-github",
        "colab_type": "text"
      },
      "source": [
        "<a href=\"https://colab.research.google.com/github/namemaksim/reports/blob/main/PZ_11.ipynb\" target=\"_parent\"><img src=\"https://colab.research.google.com/assets/colab-badge.svg\" alt=\"Open In Colab\"/></a>"
      ]
    },
    {
      "cell_type": "code",
      "execution_count": 9,
      "metadata": {
        "id": "VuYIqWISwTZa",
        "colab": {
          "base_uri": "https://localhost:8080/"
        },
        "outputId": "d779fc7b-7fce-4605-b012-dda7bc006bee"
      },
      "outputs": [
        {
          "output_type": "stream",
          "name": "stdout",
          "text": [
            "Введите первое значение: 4\n",
            "Введите второе значение: -6\n",
            "Введите третье значение: -7\n",
            "Хотя бы одно из чисел положительное  4\n"
          ]
        }
      ],
      "source": [
        "#  1. Даны два целых числа:  A,B,C. Проверить истинность высказывания: \"Хотя бы одно из числе положительное\"\n",
        "a, b, c = input('Введите первое значение: '), input('Введите второе значение: '),\\\n",
        "              input('Введите третье значение: ')\n",
        "way = (a, b, c)  # обьединяю все переменные в одну группу\n",
        "while type(way) != int:  # обработка исключений через циклическую конструкцию\n",
        "    try:\n",
        "        a, b, c = int(a), int(b), int(c)\n",
        "        break\n",
        "    except ValueError:\n",
        "        print('Вы ввели недопустимое значение, повторите попытку')\n",
        "        a, b, c = input('Введите первое значение: '), input('Введите второе значение: '), \\\n",
        "                    input('Введите третье значение: ')\n",
        "\n",
        "if a > 0 or b > 0 or c > 0:  # выполнение программы\n",
        "    print('Хотя бы одно из чисел положительное ', max(a, c, b))\n",
        "else:\n",
        "    print('Нету ни одного положительного числа')"
      ]
    },
    {
      "cell_type": "code",
      "source": [
        "# 1. Дано вещественное число А и целое число N (>0). Найти А в степени N: A= AA...N\n",
        "a = input('Введите вещественное число: ')\n",
        "b = 1\n",
        "while type(a) != float:  # обработка исключений для вещественного числа\n",
        "  try:\n",
        "    a = float(a)\n",
        "  except ValueError:\n",
        "    print('Вы ввели число, которое не соответствует условию задачи')\n",
        "    a = input('попробуйте снова ввести ВЕЩЕСТВЕННОЕ ЧИСЛО: ')\n",
        "\n",
        "n = input('Введите целое число: ')\n",
        "while type(n) != int:  # обработка исключений для целого числа\n",
        "    try:\n",
        "      n = int(n)\n",
        "    except ValueError:\n",
        "      print('Вы ввели не целое число')\n",
        "      n = input('попробуйте снова ввести ЦЕЛОЕ ЧИСЛО: ')\n",
        "\n",
        "if n > 0:  # обработка исключений для N > 0 и решение задания\n",
        "  for number in range(0, n):\n",
        "      b *= a\n",
        "  print('Ответ -', b)  # вывод ответа\n",
        "else:\n",
        "  print('Целое число меньше нуля или равно нулю')"
      ],
      "metadata": {
        "colab": {
          "base_uri": "https://localhost:8080/"
        },
        "id": "iveDMgdAwrKi",
        "outputId": "d379a35b-04ae-4dee-e64f-d58dd140e6f9"
      },
      "execution_count": 8,
      "outputs": [
        {
          "output_type": "stream",
          "name": "stdout",
          "text": [
            "Введите вещественное число: 4.4\n",
            "Введите целое число: 3\n",
            "Ответ - 85.18400000000003\n"
          ]
        }
      ]
    },
    {
      "cell_type": "code",
      "source": [
        "#  №1 Найти сумму чисел ряда 1,2,3...60 с использованием функции нахождение суммы. Использовать локальные переменные.\n",
        "def summa(b):  # создаю функцию с локальными переменными для подсчета суммы\n",
        "    a = 0\n",
        "    b = 0\n",
        "    while a < 60:  # решение задачи\n",
        "        a += 1\n",
        "        b += a\n",
        "    return b\n",
        "\n",
        "\n",
        "print('Ответ таков: ', summa(None))  # вывод ответа"
      ],
      "metadata": {
        "colab": {
          "base_uri": "https://localhost:8080/"
        },
        "id": "lgIKwmM92bRH",
        "outputId": "ec98c8d4-16b4-4736-dbc4-4274c1f4dee6"
      },
      "execution_count": 10,
      "outputs": [
        {
          "output_type": "stream",
          "name": "stdout",
          "text": [
            "Ответ таков:  1830\n"
          ]
        }
      ]
    }
  ]
}